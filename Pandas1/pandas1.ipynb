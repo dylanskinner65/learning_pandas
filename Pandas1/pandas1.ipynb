{
 "cells": [
  {
   "attachments": {},
   "cell_type": "markdown",
   "metadata": {
    "colab_type": "text",
    "id": "hr6QvWC1sVno"
   },
   "source": [
    "# Pandas 1\n",
    "\n",
    "## Name\n",
    "Dylan Skinner\n",
    "\n",
    "## Class\n",
    "\n",
    "## Date\n",
    "25 April 2023"
   ]
  },
  {
   "cell_type": "code",
   "execution_count": 1,
   "metadata": {
    "colab": {},
    "colab_type": "code",
    "id": "D1pxi6sWEcmJ"
   },
   "outputs": [],
   "source": [
    "import numpy as np\n",
    "import pandas as pd"
   ]
  },
  {
   "cell_type": "markdown",
   "metadata": {
    "colab_type": "text",
    "id": "Y8nzrZCaE4bn"
   },
   "source": [
    "# Problem 1"
   ]
  },
  {
   "cell_type": "code",
   "execution_count": 25,
   "metadata": {},
   "outputs": [],
   "source": [
    "# Prob 1\n",
    "def prob1(file='budget.csv'):\n",
    "    \"\"\"\"\n",
    "    Read in budget.csv as a DataFrame with the index as column 0 and perform each of these operations on the DataFrame in order. \n",
    "    \n",
    "    1) Reindex the columns such that amount spent on groceries is the first column and all other columns maintain the same ordering.\n",
    "    2) Sort the DataFrame in descending order based on how much money was spent on Groceries.\n",
    "    3) Reset all values in the 'Rent' column to 800.0.\n",
    "    4) Reset all values in the first 5 data points to 0.0\n",
    "    \n",
    "    Return the values of the updated DataFrame as a NumPy array.\n",
    "    \n",
    "    Parameters:\n",
    "        file (str): name of datafile\n",
    "        \n",
    "    Return:\n",
    "        values (ndarray): values of DataFrame\n",
    "    \"\"\"\n",
    "    # Read in file.\n",
    "    budget = pd.read_csv(file, index_col=0)\n",
    "\n",
    "    # Reindex the columns such that amount spent on groceries is the first column and all other columns maintain the same ordering.\n",
    "    budget = budget.reindex(columns=[\"Groceries\", \"Rent\", \"Utilities\", \"Dining Out\", \"Gas\", \"Out With Friends\", \"Netflix\"])\n",
    "\n",
    "    # Sort df in descending order absed on how much money was spent on Groceries.\n",
    "    budget = budget.sort_values('Groceries', ascending=False)\n",
    "    # print(budget.head())\n",
    "\n",
    "    # Reset all values in 'Rent' column to 800.0\n",
    "    budget[\"Rent\"] = 800.0\n",
    "    \n",
    "    # Reset all values in the first 5 data points to 0.0\n",
    "    budget.iloc[:5, :] = 0.0\n",
    "    \n",
    "    # Return as np array\n",
    "    return budget.to_numpy()\n",
    "\n",
    "\n",
    "# print(prob1())"
   ]
  },
  {
   "cell_type": "markdown",
   "metadata": {
    "colab_type": "text",
    "id": "FcGE9Qq5scpv"
   },
   "source": [
    "# Problem 2"
   ]
  },
  {
   "cell_type": "code",
   "execution_count": 54,
   "metadata": {
    "colab": {},
    "colab_type": "code",
    "id": "bZIdjL74RuuO"
   },
   "outputs": [
    {
     "name": "stdout",
     "output_type": "stream",
     "text": [
      "('Rent', 'Dining Out')\n"
     ]
    }
   ],
   "source": [
    "# Prob 2\n",
    "def prob2(file='budget.csv'):\n",
    "    \"\"\"\n",
    "    Read in file as DataFrame.\n",
    "    Fill all NaN values with 0.0.\n",
    "    Create two new columns, 'Living Expenses' and 'Other'. \n",
    "    Sum the columns 'Rent', 'Groceries', 'Gas' and 'Utilities' and set it as the value of 'Living Expenses'.\n",
    "    Sum the columns 'Dining Out', 'Out With Friends' and 'Netflix' and set as the value of 'Other'.\n",
    "    Identify which column, other than 'Living Expenses' correlates most with 'Living Expenses'\n",
    "    and which column other than 'Other' correlates most with 'Other'.\n",
    "\n",
    "    Return the names of each of those columns as a tuple.\n",
    "    The first should be of the column corresponding to \\li{'Living Expenses'} and the second to \\li{'Other'}.\n",
    "    \n",
    "    Parameters:\n",
    "        file (str): name of datafile\n",
    "        \n",
    "    Return:\n",
    "        values (tuple): (name of column that most relates to Living Expenses, name of column that most relates to Other)\n",
    "    \"\"\"\n",
    "    # Read in the file.\n",
    "    budget = pd.read_csv(file, index_col=0)\n",
    "    \n",
    "    # Fill all NaN values with 0.0\n",
    "    budget = budget.fillna(0.0)\n",
    "\n",
    "    # Create two new columns: 'Living Expenses' and 'Other'.\n",
    "    budget['Living Expenses'] = budget[[\"Rent\", 'Groceries', 'Gas', 'Utilities']].sum(axis=1)\n",
    "    budget['Other'] = budget[['Dining Out', 'Out With Friends', 'Netflix']].sum(axis=1)\n",
    "\n",
    "    # Identify which column, other than living expenses, correlates most with living expenses. Same for other.\n",
    "    # Create correlation matrix\n",
    "    correlation_matrix = budget.corr()\n",
    "    \n",
    "    # Set the 'Living Expenses', 'Living Expenses' and 'Other', 'Other' parts to be small.\n",
    "    correlation_matrix.loc['Living Expenses', 'Living Expenses'] = -5.0\n",
    "    correlation_matrix.loc['Other', 'Other'] = -5.0\n",
    "    \n",
    "    # Get the ID for highest correlation between for living expenses and other, return it\n",
    "    return (correlation_matrix['Living Expenses'].idxmax(), correlation_matrix['Other'].idxmax())"
   ]
  },
  {
   "cell_type": "markdown",
   "metadata": {
    "colab_type": "text",
    "id": "qVHAwFRRseXh"
   },
   "source": [
    "# Problem 3"
   ]
  },
  {
   "cell_type": "code",
   "execution_count": 99,
   "metadata": {
    "colab": {},
    "colab_type": "code",
    "id": "35VAshdqZhVD"
   },
   "outputs": [
    {
     "name": "stdout",
     "output_type": "stream",
     "text": [
      "('Property', array([2000, 2001, 2002, 2003, 2005, 2007, 2006]), 89.97188308734142)\n"
     ]
    }
   ],
   "source": [
    "def prob3(file='crime_data.csv'):\n",
    "    \"\"\"\n",
    "    Read in crime data and use pandas to answer the following questions.\n",
    "    \n",
    "    Set the index as the column 'Year', and return the answers to each question as a tuple.\n",
    "    \n",
    "    1) Identify the three crimes that have a mean over 1,500,000. \n",
    "    Of these three crimes, which two are very correlated? \n",
    "    Which of these two crimes has a greater maximum value?\n",
    "    Save the title of this column as a variable to return as the answer.\n",
    "    \n",
    "    2) Examine the data since 2000.\n",
    "    Sort this data (in ascending order) according to number of murders.\n",
    "    Find the years where Aggravated Assault is greater than 850,000.\n",
    "    Save the indices (the years) of the masked and reordered DataFrame as a NumPy array to return as the answer.\n",
    "    \n",
    "    3) What year had the highest crime rate? \n",
    "    In this year, which crime was committed the most? \n",
    "    What percentage of the total crime that year was it? \n",
    "    Save this value as a float.\n",
    "    \n",
    "    \n",
    "    Parameters:\n",
    "        file (str): data\n",
    "    \n",
    "    Return:\n",
    "        ans_1 (string): answer to Question 1\n",
    "        ans_2 (ndarray): answer to Question 2\n",
    "        ans_3 (float): answer to Question 3\n",
    "    \"\"\"\n",
    "    # Read in data (with year as the index).\n",
    "    crime_data = pd.read_csv(file, index_col='Year')\n",
    "    # print(crime_data)\n",
    "\n",
    "    # Question 1:\n",
    "    # Find the top 3 crimes.\n",
    "    crime_mean = crime_data.mean(axis=0).drop(['Population', 'Total'])\n",
    "    crime_mask = crime_mean >= 1500000\n",
    "    top_3_crimes = crime_mean[crime_mask].index.to_list()\n",
    "\n",
    "    # Find correlation between crimes.\n",
    "    crime_corr = crime_data[top_3_crimes].corr()\n",
    "    crime_corr[crime_corr == 1.0] = 0.0\n",
    "\n",
    "    max_val = 0.0\n",
    "    for crime in top_3_crimes:\n",
    "        if crime_corr[crime].max() > max_val:\n",
    "            max_pair = [crime, crime_corr.loc[crime].idxmax()]\n",
    "    \n",
    "    # Find which of these two crimes has the greatest maximal value\n",
    "    question1 = crime_mean[max_pair].idxmax()\n",
    "\n",
    "    # Question 2:\n",
    "    # Get years 2000 and later.\n",
    "    ind = crime_data.index.to_list()  # Get the index where 2000 is.\n",
    "    crime_2000s = crime_data.iloc[ind.index(2000):]\n",
    "\n",
    "    # Sort the data (in ascending order) by the number of murders.\n",
    "    agg_mask = crime_2000s['Aggravated Assault'] > 850000\n",
    "    crime_2000s = crime_2000s[agg_mask].sort_values(by=\"Murder\", ascending=True)\n",
    "    question2 = crime_2000s.index.to_numpy()\n",
    "    \n",
    "    # Question 3\n",
    "    crime_data['Crime Rate'] = crime_data['Total'] / crime_data['Population']\n",
    "    crime_rate_year = crime_data['Crime Rate'].idxmax()\n",
    "    max_crime = crime_data.iloc[ind.index(crime_rate_year)][2:].idxmax()  # Crime that happened the most in the highest\n",
    "                                                                          # crime rate year.\n",
    "    question3 = 100*(crime_data.iloc[ind.index(crime_rate_year)][max_crime] / crime_data.iloc[ind.index(crime_rate_year)]['Total'])\n",
    "    \n",
    "    # Return the answers to questions 1-3\n",
    "    return (question1, question2, question3)\n"
   ]
  },
  {
   "cell_type": "markdown",
   "metadata": {
    "colab_type": "text",
    "id": "4pfN6PbxsgC3"
   },
   "source": [
    "# Problem 4"
   ]
  },
  {
   "cell_type": "code",
   "execution_count": 107,
   "metadata": {
    "colab": {},
    "colab_type": "code",
    "id": "TAavKLA17LsN"
   },
   "outputs": [
    {
     "name": "stdout",
     "output_type": "stream",
     "text": [
      "               VALUE\n",
      "DATE                \n",
      "2006-09-27  11689.24\n",
      "2006-09-28  11718.45\n",
      "2006-09-29  11679.07\n",
      "2006-10-02  11670.35\n",
      "2006-10-03  11727.34\n",
      "...              ...\n",
      "2016-09-20  18129.96\n",
      "2016-09-21  18293.70\n",
      "2016-09-22  18392.46\n",
      "2016-09-23  18261.45\n",
      "2016-09-26  18094.83\n",
      "\n",
      "[2517 rows x 1 columns]\n"
     ]
    }
   ],
   "source": [
    "def prob4(file='DJIA.csv'):\n",
    "    \"\"\"\n",
    "\n",
    "    Read the data with a DatetimeIndex as the index.\n",
    "    Drop rows any rows without numerical values, cast the \"VALUE\" column to floats, then return the updated DataFrame.\n",
    "\n",
    "    Parameters:\n",
    "        file (str): data file\n",
    "    Returns:\n",
    "        df (DataFrame): updated DataFrame of stock market data\n",
    "    \"\"\"\n",
    "    # Read in data\n",
    "    djia = pd.read_csv(file, index_col='DATE')\n",
    "\n",
    "    # Drop rows without numerical values\n",
    "    djia[\"VALUE\"] = pd.to_numeric(djia['VALUE'], errors='coerce')\n",
    "    djia.dropna(inplace=True)\n",
    "\n",
    "    # Return df\n",
    "    return djia\n",
    "\n",
    "print(prob4())"
   ]
  },
  {
   "cell_type": "markdown",
   "metadata": {
    "colab_type": "text",
    "id": "I663KesNsjMK"
   },
   "source": [
    "# Problem 5"
   ]
  },
  {
   "cell_type": "code",
   "execution_count": 116,
   "metadata": {},
   "outputs": [
    {
     "name": "stdout",
     "output_type": "stream",
     "text": [
      "                  0\n",
      "2008-03-14  1122.26\n",
      "2008-03-28   921.03\n",
      "2008-04-11   962.46\n",
      "2008-04-25  1035.97\n",
      "2008-05-09  1078.59\n",
      "...             ...\n",
      "2011-07-29  1095.53\n",
      "2011-08-12  1018.39\n",
      "2011-08-26  1027.08\n",
      "2011-09-09  1005.90\n",
      "2011-09-23   963.29\n",
      "\n",
      "[93 rows x 1 columns]\n"
     ]
    }
   ],
   "source": [
    "def prob5(file='paychecks.csv'):\n",
    "    \"\"\"\n",
    "    Create data_range for index of paycheck data.\n",
    "\n",
    "    Parameters:\n",
    "        file (str): data file\n",
    "    Returns:\n",
    "        df (DataFrame): DataFrame of paycheck data\n",
    "    \"\"\"\n",
    "    # Read in data\n",
    "    paychecks = pd.read_csv(file, header=None)\n",
    "\n",
    "    # Create data range\n",
    "    dates = pd.date_range(start=\"03/14/2008\", periods=93, freq=\"14D\")\n",
    "    \n",
    "    # Set dates as index of dataframe.\n",
    "    paychecks.set_index(dates, inplace=True)\n",
    "    \n",
    "    return paychecks"
   ]
  },
  {
   "cell_type": "markdown",
   "metadata": {
    "colab_type": "text",
    "id": "I663KesNsjMK"
   },
   "source": [
    "# Problem 6"
   ]
  },
  {
   "cell_type": "code",
   "execution_count": 118,
   "metadata": {
    "colab": {},
    "colab_type": "code",
    "id": "KGxh0mpSDLDD"
   },
   "outputs": [
    {
     "name": "stdout",
     "output_type": "stream",
     "text": [
      "(VALUE    2008-10-13\n",
      "dtype: object, VALUE    2008-09-29\n",
      "dtype: object)\n"
     ]
    }
   ],
   "source": [
    "def prob6(file='DJIA.csv'):\n",
    "    \"\"\"\n",
    "    Compute the following information about the DJIA dataset\n",
    "    1. The single day with the largest gain\n",
    "    2. The single day with the largest loss\n",
    "\n",
    "    Parameters:\n",
    "        file (str): data file\n",
    "    Returns:\n",
    "        max_day (<M8[ns]): DateTimeIndex of maximum change\n",
    "        min_day (<M8[ns]): DateTimeIndex of minimum change\n",
    "    \"\"\"\n",
    "    # Get cleaned data from problem 4\n",
    "    djia = prob4(file)\n",
    "\n",
    "    # Get shift values\n",
    "    shift = djia - djia.shift(1)\n",
    "\n",
    "    # Find single day with largest gain.\n",
    "    max_day = shift.idxmax()\n",
    "\n",
    "    # Fin single day with largest loss.\n",
    "    min_day = shift.idxmin()\n",
    "\n",
    "    return max_day, min_day\n",
    "\n",
    "print(prob6())"
   ]
  }
 ],
 "metadata": {
  "colab": {
   "collapsed_sections": [],
   "name": "pandas1.ipynb",
   "provenance": [],
   "version": "0.3.2"
  },
  "kernelspec": {
   "display_name": "Python 3",
   "language": "python",
   "name": "python3"
  },
  "language_info": {
   "codemirror_mode": {
    "name": "ipython",
    "version": 3
   },
   "file_extension": ".py",
   "mimetype": "text/x-python",
   "name": "python",
   "nbconvert_exporter": "python",
   "pygments_lexer": "ipython3",
   "version": "3.7.13"
  }
 },
 "nbformat": 4,
 "nbformat_minor": 1
}
